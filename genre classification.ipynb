{
 "cells": [
  {
   "cell_type": "code",
   "execution_count": 1,
   "id": "99d04c4d",
   "metadata": {},
   "outputs": [],
   "source": [
    "import pandas as pd\n",
    "import numpy as np\n",
    "import matplotlib.pyplot as plt\n",
    "import sqlite3"
   ]
  },
  {
   "cell_type": "code",
   "execution_count": null,
   "id": "7f0d6da2",
   "metadata": {},
   "outputs": [],
   "source": [
    "pip install kneed\n",
    "pip install yellowbrick\n",
    "pip install scikit-learn"
   ]
  },
  {
   "cell_type": "code",
   "execution_count": 2,
   "id": "e83aef59",
   "metadata": {},
   "outputs": [],
   "source": [
    "from sklearn.datasets import make_blobs\n",
    "from sklearn.cluster import KMeans\n",
    "from sklearn.metrics import silhouette_samples, silhouette_score\n",
    "from sklearn.preprocessing import StandardScaler"
   ]
  },
  {
   "cell_type": "code",
   "execution_count": null,
   "id": "97909ebf",
   "metadata": {},
   "outputs": [],
   "source": [
    "# data preparation"
   ]
  },
  {
   "cell_type": "code",
   "execution_count": 3,
   "id": "8c420325",
   "metadata": {},
   "outputs": [],
   "source": [
    "cnx = sqlite3.connect('last_fm.db')\n",
    "\n",
    "df = pd.read_sql_query(\"SELECT * FROM TRAINING_DB_2\", cnx)\n",
    "feat = pd.read_sql_query(\"SELECT * FROM FEATURES_2\", cnx)"
   ]
  },
  {
   "cell_type": "code",
   "execution_count": 4,
   "id": "bb58a1e6",
   "metadata": {},
   "outputs": [],
   "source": [
    "full = pd.merge(df, feat, how = \"left\", on = \"track_id\")"
   ]
  },
  {
   "cell_type": "code",
   "execution_count": 5,
   "id": "0ef275e3",
   "metadata": {},
   "outputs": [],
   "source": [
    "full_numeric = full.select_dtypes(include=['float64'])"
   ]
  },
  {
   "cell_type": "code",
   "execution_count": 6,
   "id": "00c395cd",
   "metadata": {},
   "outputs": [],
   "source": [
    "full_numeric = full_numeric.dropna()\n",
    "full = full.dropna()"
   ]
  },
  {
   "cell_type": "code",
   "execution_count": 7,
   "id": "d7901be5",
   "metadata": {},
   "outputs": [],
   "source": [
    "scaler = StandardScaler()\n",
    "full_scaled = scaler.fit_transform(full_numeric)"
   ]
  },
  {
   "cell_type": "code",
   "execution_count": 8,
   "id": "cf278aae",
   "metadata": {},
   "outputs": [],
   "source": [
    "cluster_number = 10"
   ]
  },
  {
   "cell_type": "code",
   "execution_count": null,
   "id": "4c27ae38",
   "metadata": {},
   "outputs": [],
   "source": [
    "km = KMeans(\n",
    "    n_clusters=cluster_number, init='random',\n",
    "    n_init=10, max_iter=500, \n",
    "    tol=1e-04, random_state=0\n",
    ")\n",
    "y_km = km.fit_predict(full_scaled)"
   ]
  },
  {
   "cell_type": "code",
   "execution_count": 11,
   "id": "d334dd64",
   "metadata": {
    "scrolled": true
   },
   "outputs": [
    {
     "data": {
      "text/plain": [
       "1"
      ]
     },
     "execution_count": 11,
     "metadata": {},
     "output_type": "execute_result"
    }
   ],
   "source": [
    "song_index = full_numeric.reset_index()\n",
    "indd = song_index[\"index\"]"
   ]
  },
  {
   "cell_type": "code",
   "execution_count": 13,
   "id": "59e2da84",
   "metadata": {},
   "outputs": [],
   "source": [
    "genre_column = full[\"genre_name\"]"
   ]
  },
  {
   "cell_type": "code",
   "execution_count": null,
   "id": "686c8f7a",
   "metadata": {},
   "outputs": [],
   "source": [
    "genre_column = []\n",
    "for i in range(len(full_numeric)):\n",
    "    num = indd[i]\n",
    "    genr = full.iloc[num][\"genre_name\"]\n",
    "    genre_column.append(genr)"
   ]
  },
  {
   "cell_type": "code",
   "execution_count": 14,
   "id": "066b1840",
   "metadata": {},
   "outputs": [
    {
     "data": {
      "text/html": [
       "<div>\n",
       "<style scoped>\n",
       "    .dataframe tbody tr th:only-of-type {\n",
       "        vertical-align: middle;\n",
       "    }\n",
       "\n",
       "    .dataframe tbody tr th {\n",
       "        vertical-align: top;\n",
       "    }\n",
       "\n",
       "    .dataframe thead th {\n",
       "        text-align: right;\n",
       "    }\n",
       "</style>\n",
       "<table border=\"1\" class=\"dataframe\">\n",
       "  <thead>\n",
       "    <tr style=\"text-align: right;\">\n",
       "      <th></th>\n",
       "      <th>index</th>\n",
       "      <th>genre</th>\n",
       "    </tr>\n",
       "  </thead>\n",
       "  <tbody>\n",
       "    <tr>\n",
       "      <th>0</th>\n",
       "      <td>0.0</td>\n",
       "      <td>Everything</td>\n",
       "    </tr>\n",
       "    <tr>\n",
       "      <th>1</th>\n",
       "      <td>1.0</td>\n",
       "      <td>Everything</td>\n",
       "    </tr>\n",
       "    <tr>\n",
       "      <th>2</th>\n",
       "      <td>2.0</td>\n",
       "      <td>Everything</td>\n",
       "    </tr>\n",
       "    <tr>\n",
       "      <th>3</th>\n",
       "      <td>3.0</td>\n",
       "      <td>Everything</td>\n",
       "    </tr>\n",
       "    <tr>\n",
       "      <th>4</th>\n",
       "      <td>4.0</td>\n",
       "      <td>Everything</td>\n",
       "    </tr>\n",
       "    <tr>\n",
       "      <th>...</th>\n",
       "      <td>...</td>\n",
       "      <td>...</td>\n",
       "    </tr>\n",
       "    <tr>\n",
       "      <th>1114143</th>\n",
       "      <td>NaN</td>\n",
       "      <td>Vietnam - Underground</td>\n",
       "    </tr>\n",
       "    <tr>\n",
       "      <th>1114144</th>\n",
       "      <td>NaN</td>\n",
       "      <td>Vietnam - Underground</td>\n",
       "    </tr>\n",
       "    <tr>\n",
       "      <th>1114145</th>\n",
       "      <td>NaN</td>\n",
       "      <td>Vietnam - Underground</td>\n",
       "    </tr>\n",
       "    <tr>\n",
       "      <th>1114146</th>\n",
       "      <td>NaN</td>\n",
       "      <td>Vietnam - Underground</td>\n",
       "    </tr>\n",
       "    <tr>\n",
       "      <th>1114147</th>\n",
       "      <td>NaN</td>\n",
       "      <td>Vietnam - Underground</td>\n",
       "    </tr>\n",
       "  </tbody>\n",
       "</table>\n",
       "<p>1114148 rows × 2 columns</p>\n",
       "</div>"
      ],
      "text/plain": [
       "         index                  genre\n",
       "0          0.0             Everything\n",
       "1          1.0             Everything\n",
       "2          2.0             Everything\n",
       "3          3.0             Everything\n",
       "4          4.0             Everything\n",
       "...        ...                    ...\n",
       "1114143    NaN  Vietnam - Underground\n",
       "1114144    NaN  Vietnam - Underground\n",
       "1114145    NaN  Vietnam - Underground\n",
       "1114146    NaN  Vietnam - Underground\n",
       "1114147    NaN  Vietnam - Underground\n",
       "\n",
       "[1114148 rows x 2 columns]"
      ]
     },
     "execution_count": 14,
     "metadata": {},
     "output_type": "execute_result"
    }
   ],
   "source": [
    "genres_info = pd.DataFrame({\"index\" : indd, \"genre\" : genre_column})"
   ]
  },
  {
   "cell_type": "code",
   "execution_count": 15,
   "id": "52387910",
   "metadata": {},
   "outputs": [],
   "source": [
    "songs_with_genres = pd.merge(song_index, genres_info, how = 'left', on = \"index\")\n",
    "cluster_genres_info = pd.DataFrame({\"index\" : indd, \"cluster\" : y_km})\n",
    "clustered_genres_df = pd.merge(songs_with_genres, cluster_genres_info, how = 'left', on = \"index\")"
   ]
  },
  {
   "cell_type": "code",
   "execution_count": 18,
   "id": "50cfe5f4",
   "metadata": {},
   "outputs": [],
   "source": [
    "mean_null_list = []\n",
    "def mean_null_calc(some_table):\n",
    "    ggg = some_table.groupby([\"genre\", \"cluster\"]).count()[[\"index\"]]\n",
    "    ggg = ggg.reset_index()\n",
    "    ggg = ggg.set_index(\"genre\")\n",
    "    ggg = ggg.pivot(columns='cluster', values='index')\n",
    "    ggg2 = ggg.isnull().sum(axis=1)\n",
    "    mean_null_list.append(ggg2.mean())"
   ]
  },
  {
   "cell_type": "code",
   "execution_count": 19,
   "id": "33a2d753",
   "metadata": {},
   "outputs": [],
   "source": [
    "def create_pred_table(num_clusters):\n",
    "    km = KMeans(\n",
    "    n_clusters=num_clusters, init='random',\n",
    "    n_init=10, max_iter=500, \n",
    "    tol=1e-04, random_state=0)\n",
    "    y_km = km.fit_predict(full_scaled)\n",
    "    new_genres_info = pd.DataFrame({\"index\" : indd, \"cluster\" : y_km})\n",
    "    clustered_genres_df = pd.merge(songs_with_genres, new_genres_info, how = 'left', on = \"index\")\n",
    "    return clustered_genres_df"
   ]
  },
  {
   "cell_type": "code",
   "execution_count": null,
   "id": "d54b4e80",
   "metadata": {},
   "outputs": [],
   "source": [
    "# classification: logistic regression"
   ]
  },
  {
   "cell_type": "code",
   "execution_count": null,
   "id": "442aa9f8",
   "metadata": {},
   "outputs": [],
   "source": [
    "from sklearn.linear_model import LogisticRegression"
   ]
  },
  {
   "cell_type": "code",
   "execution_count": null,
   "id": "a1bb3430",
   "metadata": {},
   "outputs": [],
   "source": [
    "model_reg = LogisticRegression(multi_class='multinomial', solver='lbfgs')"
   ]
  },
  {
   "cell_type": "code",
   "execution_count": null,
   "id": "749f2c5f",
   "metadata": {},
   "outputs": [],
   "source": [
    "from sklearn.model_selection import train_test_split\n",
    "x_train, x_test, y_train, y_test = train_test_split(full_scaled, y_km, test_size=0.25, random_state=0)"
   ]
  },
  {
   "cell_type": "code",
   "execution_count": null,
   "id": "e76b51ed",
   "metadata": {},
   "outputs": [],
   "source": [
    "from sklearn.model_selection import train_test_split\n",
    "x_train, x_test, y_train, y_test = train_test_split(full_scaled, y_classes, test_size=0.25, random_state=0)"
   ]
  },
  {
   "cell_type": "code",
   "execution_count": null,
   "id": "ea915d72",
   "metadata": {},
   "outputs": [],
   "source": [
    "train_set_scaled = scaler.fit_transform(train_set)"
   ]
  },
  {
   "cell_type": "code",
   "execution_count": null,
   "id": "a627ab4a",
   "metadata": {},
   "outputs": [],
   "source": [
    "train_set = train_set.dropna()"
   ]
  },
  {
   "cell_type": "code",
   "execution_count": null,
   "id": "19198f4d",
   "metadata": {},
   "outputs": [],
   "source": [
    "genre_column = []\n",
    "for i in range(len(train_set)):\n",
    "    num = indd[i]\n",
    "    genr = full.iloc[num][\"genre_name\"]\n",
    "    genre_column.append(genr)\n",
    "\n",
    "genre_column"
   ]
  },
  {
   "cell_type": "code",
   "execution_count": null,
   "id": "1ecb2c3a",
   "metadata": {},
   "outputs": [],
   "source": [
    "from sklearn.model_selection import cross_val_score\n",
    "from sklearn.model_selection import RepeatedStratifiedKFold\n",
    "from sklearn.model_selection import cross_validate\n",
    "from sklearn.model_selection import cross_val_predict\n",
    "from numpy import mean\n",
    "from numpy import std"
   ]
  },
  {
   "cell_type": "code",
   "execution_count": null,
   "id": "9ebf8db1",
   "metadata": {},
   "outputs": [],
   "source": [
    "# accuracy\n",
    "cv = RepeatedStratifiedKFold(n_splits=10, n_repeats=3, random_state=1)\n",
    "# evaluate the model and collect the scores\n",
    "n_scores = cross_val_score(model_reg, train_sample, y_sample, scoring='accuracy', cv=5, n_jobs=-1)\n",
    "# report the model performance\n",
    "print('Mean Accuracy: %.3f (%.3f)' % (mean(n_scores), std(n_scores)))"
   ]
  },
  {
   "cell_type": "code",
   "execution_count": null,
   "id": "b962b0f4",
   "metadata": {},
   "outputs": [],
   "source": [
    "# recall\n",
    "# evaluate the model and collect the scores\n",
    "n_scores = cross_val_score(decision_tree_2, x_train, y_train, scoring = \"precision_micro\", n_jobs =-1)\n",
    "# report the model performance\n",
    "print('Mean accuracy: %.3f (%.3f)' % (mean(n_scores), std(n_scores)))"
   ]
  },
  {
   "cell_type": "code",
   "execution_count": null,
   "id": "de6bd53a",
   "metadata": {},
   "outputs": [],
   "source": [
    "cross_validate(model_reg, x_train, y_train, scoring = \"accuracy\", n_jobs = -1)"
   ]
  },
  {
   "cell_type": "code",
   "execution_count": null,
   "id": "44ee3969",
   "metadata": {},
   "outputs": [],
   "source": [
    "model_reg.fit(x_train, y_train)"
   ]
  },
  {
   "cell_type": "code",
   "execution_count": null,
   "id": "b16249c5",
   "metadata": {},
   "outputs": [],
   "source": [
    "predictions = model_reg.predict(x_test)"
   ]
  },
  {
   "cell_type": "code",
   "execution_count": null,
   "id": "d8b2f2f2",
   "metadata": {},
   "outputs": [],
   "source": [
    "import seaborn as sns\n",
    "from sklearn import metrics"
   ]
  },
  {
   "cell_type": "code",
   "execution_count": null,
   "id": "f358f983",
   "metadata": {},
   "outputs": [],
   "source": [
    "cm = metrics.confusion_matrix(y_test, predictions)\n",
    "print(cm)"
   ]
  },
  {
   "cell_type": "code",
   "execution_count": null,
   "id": "523ace7c",
   "metadata": {},
   "outputs": [],
   "source": [
    "# Use score method to get accuracy of model\n",
    "score = model_reg.score(x_test, y_test)\n",
    "print(score)"
   ]
  },
  {
   "cell_type": "code",
   "execution_count": null,
   "id": "677fa4c0",
   "metadata": {
    "scrolled": false
   },
   "outputs": [],
   "source": [
    "plt.figure(figsize=(10,10))\n",
    "sns.heatmap(cm, annot=True, fmt=\".0f\", linewidths=.5, square = True, cmap = 'PiYG');\n",
    "plt.ylabel('Actual label');\n",
    "plt.xlabel('Predicted label');\n",
    "all_sample_title = 'Accuracy Score: {0}'.format(score)\n",
    "plt.title(all_sample_title, size = 15);"
   ]
  },
  {
   "cell_type": "code",
   "execution_count": null,
   "id": "48535129",
   "metadata": {},
   "outputs": [],
   "source": [
    "from sklearn.metrics import precision_recall_fscore_support\n",
    "precision_recall_fscore_support(y_test, predictions, average=None)"
   ]
  },
  {
   "cell_type": "code",
   "execution_count": null,
   "id": "0a8ff55a",
   "metadata": {},
   "outputs": [],
   "source": [
    "from sklearn.pipeline import make_pipeline\n",
    "from sklearn.linear_model import SGDClassifier\n",
    "clf = make_pipeline(StandardScaler(), SGDClassifier(max_iter=1000, tol=1e-3))\n",
    "clf.fit(x_train, y_train)\n",
    "#Pipeline(steps=[('standardscaler', StandardScaler()),\n",
    "               # ('sgdclassifier', SGDClassifier())])"
   ]
  },
  {
   "cell_type": "code",
   "execution_count": null,
   "id": "7a09ec68",
   "metadata": {},
   "outputs": [],
   "source": [
    "from matplotlib import pyplot\n",
    "train_set.hist(alpha=0.5, figsize=(20, 10))\n",
    "pyplot.show()"
   ]
  },
  {
   "cell_type": "code",
   "execution_count": null,
   "id": "94988b7e",
   "metadata": {},
   "outputs": [],
   "source": [
    "from sklearn.preprocessing import MinMaxScaler\n",
    "columns = train_set.columns\n",
    "norm = MinMaxScaler()\n",
    "X_norm = norm.fit_transform(train_set)\n",
    "X_norm = pd.DataFrame(X_norm, columns = columns)\n",
    "X_norm.head()"
   ]
  },
  {
   "cell_type": "code",
   "execution_count": null,
   "id": "98ef5e89",
   "metadata": {},
   "outputs": [],
   "source": [
    "# classification: decision tree"
   ]
  },
  {
   "cell_type": "code",
   "execution_count": null,
   "id": "3a08f6cf",
   "metadata": {},
   "outputs": [],
   "source": [
    "from sklearn.tree import DecisionTreeClassifier\n",
    "decision_tree = DecisionTreeClassifier()\n",
    "decision_tree.fit(x_train, y_train)"
   ]
  },
  {
   "cell_type": "code",
   "execution_count": null,
   "id": "9c89d56b",
   "metadata": {},
   "outputs": [],
   "source": [
    "cross_validate(clf, x_train, y_train, scoring = \"accuracy\", n_jobs = -1)"
   ]
  },
  {
   "cell_type": "code",
   "execution_count": null,
   "id": "4249323c",
   "metadata": {},
   "outputs": [],
   "source": [
    "scores = []\n",
    "accuracies = []\n",
    "for i in range(1,30):\n",
    "    decision_tree_2 = DecisionTreeClassifier(max_depth = i)\n",
    "    n_scores = cross_val_score(decision_tree_2, x_train, y_train, scoring = \"accuracy\", n_jobs =-1)\n",
    "    decision_tree_2.fit(x_train, y_train)\n",
    "    score = decision_tree_2.score(x_test, y_test)\n",
    "    accuracies.append((mean(n_scores)))\n",
    "    scores.append(score)"
   ]
  },
  {
   "cell_type": "code",
   "execution_count": null,
   "id": "3a6f0ce1",
   "metadata": {},
   "outputs": [],
   "source": [
    "plt.figure(figsize = (10,7))\n",
    "plt.xticks(xlist_better)\n",
    "plt.plot(range(1,30), accuracies, \"bo-\", linewidth = 2)\n",
    "#plt.plot(scores, \"ro-\", alpha = 0.6, linewidth = 2)\n",
    "\n",
    "plt.xlabel(\"Depth of the tree\")\n",
    "plt.ylabel(\"Accuracy of the model\")\n",
    "plt.legend([\"Cross-validation accuracy\"])"
   ]
  },
  {
   "cell_type": "code",
   "execution_count": null,
   "id": "35018a73",
   "metadata": {},
   "outputs": [],
   "source": [
    "from sklearn import tree"
   ]
  },
  {
   "cell_type": "code",
   "execution_count": null,
   "id": "43777d60",
   "metadata": {},
   "outputs": [],
   "source": [
    "from sklearn.tree import DecisionTreeClassifier\n",
    "decision_tree_2 = DecisionTreeClassifier(max_depth = 20)\n",
    "decision_tree_2.fit(x_train, y_train)"
   ]
  },
  {
   "cell_type": "code",
   "execution_count": null,
   "id": "f71971c2",
   "metadata": {},
   "outputs": [],
   "source": [
    "score = decision_tree_2.score(x_test, y_test)\n",
    "print(score)"
   ]
  }
 ],
 "metadata": {
  "kernelspec": {
   "display_name": "Python 3",
   "language": "python",
   "name": "python3"
  },
  "language_info": {
   "codemirror_mode": {
    "name": "ipython",
    "version": 3
   },
   "file_extension": ".py",
   "mimetype": "text/x-python",
   "name": "python",
   "nbconvert_exporter": "python",
   "pygments_lexer": "ipython3",
   "version": "3.8.8"
  }
 },
 "nbformat": 4,
 "nbformat_minor": 5
}
